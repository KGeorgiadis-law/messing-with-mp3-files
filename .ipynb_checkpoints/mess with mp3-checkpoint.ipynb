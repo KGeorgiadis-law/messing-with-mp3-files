{
 "cells": [
  {
   "cell_type": "code",
   "execution_count": null,
   "metadata": {
    "collapsed": false
   },
   "outputs": [],
   "source": [
    "#!pip install mutagen"
   ]
  },
  {
   "cell_type": "code",
   "execution_count": 1,
   "metadata": {
    "collapsed": false
   },
   "outputs": [],
   "source": [
    "# dependencies\n",
    "import os"
   ]
  },
  {
   "cell_type": "code",
   "execution_count": 2,
   "metadata": {
    "collapsed": false
   },
   "outputs": [],
   "source": [
    "# with thanks to ThemisB https://github.com/ThemisB/grecka\n",
    "from grecka import *"
   ]
  },
  {
   "cell_type": "code",
   "execution_count": 3,
   "metadata": {
    "collapsed": false
   },
   "outputs": [
    {
     "name": "stdout",
     "output_type": "stream",
     "text": [
      "acoustid_fingerprint, acoustid_id, album, albumartist, albumartistsort, albumsort, arranger, artist, artistsort, asin, author, barcode, bpm, catalognumber, compilation, composer, composersort, conductor, copyright, date, discnumber, discsubtitle, encodedby, genre, isrc, language, length, lyricist, media, mood, musicbrainz_albumartistid, musicbrainz_albumid, musicbrainz_albumstatus, musicbrainz_albumtype, musicbrainz_artistid, musicbrainz_discid, musicbrainz_releasegroupid, musicbrainz_releasetrackid, musicbrainz_trackid, musicbrainz_trmid, musicbrainz_workid, musicip_fingerprint, musicip_puid, organization, originaldate, performer, performer:*, releasecountry, replaygain_*_gain, replaygain_*_peak, title, titlesort, tracknumber, version, website\n"
     ]
    }
   ],
   "source": [
    "# for help on mutagen, see https://mutagen.readthedocs.io/en/latest/user/id3.html\n",
    "from mutagen.easyid3 import EasyID3\n",
    "valid_keys = list(EasyID3.valid_keys.keys())\n",
    "valid_keys.sort()\n",
    "valid_keys_str = \", \".join(valid_keys)\n",
    "print(valid_keys_str)"
   ]
  },
  {
   "cell_type": "code",
   "execution_count": 4,
   "metadata": {
    "collapsed": false
   },
   "outputs": [],
   "source": [
    "# functions to use\n",
    "def change_mp3_file(mp3_file_folder, mp3_file_name, key_to_change, new_value):\n",
    "    # join the folder name and the file name to find the absolute path\n",
    "    mp3_file_path = os.path.join(mp3_file_folder, mp3_file_name)\n",
    "    # initialise mutagen\n",
    "    current_track = EasyID3(mp3_file_path)\n",
    "    if key_to_change in valid_keys:\n",
    "        current_track[key_to_change] = new_value\n",
    "        print(\"changing {} for '{}' to '{}'\".format(key_to_change, mp3_file_name, new_value))\n",
    "        current_track.save()\n",
    "    else:\n",
    "        raise NameError(\"You doofus! '{}' is not one of the available keys! You can see the available keys by using print(available_keys)\".format(key_to_change))"
   ]
  },
  {
   "cell_type": "code",
   "execution_count": 5,
   "metadata": {
    "collapsed": true
   },
   "outputs": [],
   "source": [
    "def get_mp3_information(mp3_file_folder, mp3_file_name, key_to_take):\n",
    "    mp3_file_path = os.path.join(mp3_file_folder, mp3_file_name)\n",
    "    current_track = EasyID3(mp3_file_path)\n",
    "    return current_track[key_to_take]"
   ]
  },
  {
   "cell_type": "code",
   "execution_count": 6,
   "metadata": {
    "collapsed": true
   },
   "outputs": [],
   "source": [
    "def mass_renamer(root, original_file, new_name):\n",
    "    original_file_path = os.path.join(root, original_file)\n",
    "    new_file_path = os.path.join(root, new_name)\n",
    "    os.rename(original_file_path, new_file_path)\n",
    "    print(\"finished!\")"
   ]
  },
  {
   "cell_type": "code",
   "execution_count": 16,
   "metadata": {
    "collapsed": false
   },
   "outputs": [
    {
     "name": "stdout",
     "output_type": "stream",
     "text": [
      "please select root folder: C:\\Users\\Constantinos\\Music\\Music (Greek) (Ελληνικά)\\Papakonstantinou, Vasilis\\Ef Olis Tis Ylis\n"
     ]
    }
   ],
   "source": [
    "folder_to_use = input(\"please select root folder: \")"
   ]
  },
  {
   "cell_type": "code",
   "execution_count": 19,
   "metadata": {
    "collapsed": false,
    "scrolled": true
   },
   "outputs": [
    {
     "name": "stdout",
     "output_type": "stream",
     "text": [
      "renaming Vasilhs Papakwnstantinou - 01 Autous tous exw vare8ei.mp3 to 01 Autous tous exw vare8ei.mp3...\n",
      "finished!\n",
      "renaming Vasilhs Papakwnstantinou - 01 Kamparntina.mp3 to 01 Kamparntina.mp3...\n",
      "finished!\n",
      "renaming Vasilhs Papakwnstantinou - 01 Sto limani tou Amsterdam.mp3 to 01 Sto limani tou Amsterdam.mp3...\n",
      "finished!\n",
      "renaming Vasilhs Papakwnstantinou - 01 Vrady Savvatou.mp3 to 01 Vrady Savvatou.mp3...\n",
      "finished!\n",
      "renaming Vasilhs Papakwnstantinou - 02 Alla ta vradia.mp3 to 02 Alla ta vradia.mp3...\n",
      "finished!\n",
      "renaming Vasilhs Papakwnstantinou - 02 Apo mena to Vasilh.mp3 to 02 Apo mena to Vasilh.mp3...\n",
      "finished!\n",
      "renaming Vasilhs Papakwnstantinou - 02 Ola apo xeri kammena.mp3 to 02 Ola apo xeri kammena.mp3...\n",
      "finished!\n",
      "renaming Vasilhs Papakwnstantinou - 02 Porto Riko.mp3 to 02 Porto Riko.mp3...\n",
      "finished!\n",
      "renaming Vasilhs Papakwnstantinou - 03 Ena mplouz.mp3 to 03 Ena mplouz.mp3...\n",
      "finished!\n",
      "renaming Vasilhs Papakwnstantinou - 03 Me ton Bob Ntylan.mp3 to 03 Me ton Bob Ntylan.mp3...\n",
      "finished!\n",
      "renaming Vasilhs Papakwnstantinou - 03 Parapona sth Lina.mp3 to 03 Parapona sth Lina.mp3...\n",
      "finished!\n",
      "renaming Vasilhs Papakwnstantinou - 03 Xairetismata.mp3 to 03 Xairetismata.mp3...\n",
      "finished!\n",
      "renaming Vasilhs Papakwnstantinou - 04 God bless America.mp3 to 04 God bless America.mp3...\n",
      "finished!\n",
      "renaming Vasilhs Papakwnstantinou - 04 Mpoum.mp3 to 04 Mpoum.mp3...\n",
      "finished!\n",
      "renaming Vasilhs Papakwnstantinou - 04 Stella.mp3 to 04 Stella.mp3...\n",
      "finished!\n",
      "renaming Vasilhs Papakwnstantinou - 04 Xronia polla.mp3 to 04 Xronia polla.mp3...\n",
      "finished!\n",
      "renaming Vasilhs Papakwnstantinou - 05 Fysaei.mp3 to 05 Fysaei.mp3...\n",
      "finished!\n",
      "renaming Vasilhs Papakwnstantinou - 05 Kantilak.mp3 to 05 Kantilak.mp3...\n",
      "finished!\n",
      "renaming Vasilhs Papakwnstantinou - 05 Preveza.mp3 to 05 Preveza.mp3...\n",
      "finished!\n",
      "renaming Vasilhs Papakwnstantinou - 05 S'agapaw akoma.mp3 to 05 S'agapaw akoma.mp3...\n",
      "finished!\n",
      "renaming Vasilhs Papakwnstantinou - 06 Ellas.mp3 to 06 Ellas.mp3...\n",
      "finished!\n",
      "renaming Vasilhs Papakwnstantinou - 06 Fovamai.mp3 to 06 Fovamai.mp3...\n",
      "finished!\n",
      "renaming Vasilhs Papakwnstantinou - 06 Mikres no8eies.mp3 to 06 Mikres no8eies.mp3...\n",
      "finished!\n",
      "renaming Vasilhs Papakwnstantinou - 06 Sklhro galazio.mp3 to 06 Sklhro galazio.mp3...\n",
      "finished!\n",
      "renaming Vasilhs Papakwnstantinou - 07 Efhva gerakia.mp3 to 07 Efhva gerakia.mp3...\n",
      "finished!\n",
      "renaming Vasilhs Papakwnstantinou - 07 Exw anagkh (Live).mp3 to 07 Exw anagkh (Live).mp3...\n",
      "finished!\n",
      "renaming Vasilhs Papakwnstantinou - 07 Feugoun karavia.mp3 to 07 Feugoun karavia.mp3...\n",
      "finished!\n",
      "renaming Vasilhs Papakwnstantinou - 07 Saved.mp3 to 07 Saved.mp3...\n",
      "finished!\n",
      "renaming Vasilhs Papakwnstantinou - 08 Gernas kai skoteiniazei.mp3 to 08 Gernas kai skoteiniazei.mp3...\n",
      "finished!\n",
      "renaming Vasilhs Papakwnstantinou - 08 Krata ligo akoma.mp3 to 08 Krata ligo akoma.mp3...\n",
      "finished!\n",
      "renaming Vasilhs Papakwnstantinou - 08 O mauros gatos.mp3 to 08 O mauros gatos.mp3...\n",
      "finished!\n",
      "renaming Vasilhs Papakwnstantinou - 08 Viktwria.mp3 to 08 Viktwria.mp3...\n",
      "finished!\n",
      "renaming Vasilhs Papakwnstantinou - 09 Gouily (Live).mp3 to 09 Gouily (Live).mp3...\n",
      "finished!\n",
      "renaming Vasilhs Papakwnstantinou - 09 Mpagasas.mp3 to 09 Mpagasas.mp3...\n",
      "finished!\n",
      "renaming Vasilhs Papakwnstantinou - 09 Oulaloum.mp3 to 09 Oulaloum.mp3...\n",
      "finished!\n",
      "renaming Vasilhs Papakwnstantinou - 09 Sfentona.mp3 to 09 Sfentona.mp3...\n",
      "finished!\n",
      "renaming Vasilhs Papakwnstantinou - 10 Lina.mp3 to 10 Lina.mp3...\n",
      "finished!\n",
      "renaming Vasilhs Papakwnstantinou - 10 Maxairi (Live).mp3 to 10 Maxairi (Live).mp3...\n",
      "finished!\n",
      "renaming Vasilhs Papakwnstantinou - 10 Oi meres pou dikazoun.mp3 to 10 Oi meres pou dikazoun.mp3...\n",
      "finished!\n",
      "renaming Vasilhs Papakwnstantinou - 10 Spane oi xordes mou.mp3 to 10 Spane oi xordes mou.mp3...\n",
      "finished!\n",
      "renaming Vasilhs Papakwnstantinou - 11 Ase me na kanw la8os.mp3 to 11 Ase me na kanw la8os.mp3...\n",
      "finished!\n",
      "renaming Vasilhs Papakwnstantinou - 11 Oi psyxes kai oi agapes.mp3 to 11 Oi psyxes kai oi agapes.mp3...\n",
      "finished!\n",
      "renaming Vasilhs Papakwnstantinou - 11 Sto pazari tou lhsth.mp3 to 11 Sto pazari tou lhsth.mp3...\n",
      "finished!\n",
      "renaming Vasilhs Papakwnstantinou - 11 Tritos pagkosmios.mp3 to 11 Tritos pagkosmios.mp3...\n",
      "finished!\n",
      "renaming Vasilhs Papakwnstantinou - 12 Agapw kai adiaforw.mp3 to 12 Agapw kai adiaforw.mp3...\n",
      "finished!\n",
      "renaming Vasilhs Papakwnstantinou - 12 Den yparxw.mp3 to 12 Den yparxw.mp3...\n",
      "finished!\n",
      "renaming Vasilhs Papakwnstantinou - 12 Ta poulia ths distixias.mp3 to 12 Ta poulia ths distixias.mp3...\n",
      "finished!\n",
      "renaming Vasilhs Papakwnstantinou - 12 Tse (Live).mp3 to 12 Tse (Live).mp3...\n",
      "finished!\n",
      "renaming Vasilhs Papakwnstantinou - 13 O stratiwths.mp3 to 13 O stratiwths.mp3...\n",
      "finished!\n",
      "renaming Vasilhs Papakwnstantinou - 13 Pare me.mp3 to 13 Pare me.mp3...\n",
      "finished!\n",
      "renaming Vasilhs Papakwnstantinou - 13 Prin to telos.mp3 to 13 Prin to telos.mp3...\n",
      "finished!\n",
      "renaming Vasilhs Papakwnstantinou - 13 Twra twra.mp3 to 13 Twra twra.mp3...\n",
      "finished!\n",
      "renaming Vasilhs Papakwnstantinou - 14 8a nikhsoume.mp3 to 14 8a nikhsoume.mp3...\n",
      "finished!\n",
      "renaming Vasilhs Papakwnstantinou - 14 Ki an eimai rok.mp3 to 14 Ki an eimai rok.mp3...\n",
      "finished!\n",
      "renaming Vasilhs Papakwnstantinou - 14 Koursaros.mp3 to 14 Koursaros.mp3...\n",
      "finished!\n",
      "renaming Vasilhs Papakwnstantinou - 14 Piasthka sxoini kordoni.mp3 to 14 Piasthka sxoini kordoni.mp3...\n",
      "finished!\n",
      "renaming Vasilhs Papakwnstantinou - 14 San na mhn s'exasa pote.mp3 to 14 San na mhn s'exasa pote.mp3...\n",
      "finished!\n",
      "renaming Vasilhs Papakwnstantinou - 15 Den exw allh ypomonh.mp3 to 15 Den exw allh ypomonh.mp3...\n",
      "finished!\n",
      "renaming Vasilhs Papakwnstantinou - 15 S'akolou8w.mp3 to 15 S'akolou8w.mp3...\n",
      "finished!\n",
      "renaming Vasilhs Papakwnstantinou - 15 Sempastian.mp3 to 15 Sempastian.mp3...\n",
      "finished!\n",
      "renaming Vasilhs Papakwnstantinou - 15 Xamenoi dromoi.mp3 to 15 Xamenoi dromoi.mp3...\n",
      "finished!\n",
      "renaming Vasilhs Papakwnstantinou - 16 Antexw.mp3 to 16 Antexw.mp3...\n",
      "finished!\n",
      "renaming Vasilhs Papakwnstantinou - 16 Mpalanta gia ton Giannh K.mp3 to 16 Mpalanta gia ton Giannh K.mp3...\n",
      "finished!\n",
      "renaming Vasilhs Papakwnstantinou - 16 Na grafeis na thlefwneis.mp3 to 16 Na grafeis na thlefwneis.mp3...\n",
      "finished!\n",
      "renaming Vasilhs Papakwnstantinou - 16 Prwth Maiou.mp3 to 16 Prwth Maiou.mp3...\n",
      "finished!\n",
      "renaming Vasilhs Papakwnstantinou - 17 Ena karavi.mp3 to 17 Ena karavi.mp3...\n",
      "finished!\n",
      "renaming Vasilhs Papakwnstantinou - 18 S'agapw na prosexeis.mp3 to 18 S'agapw na prosexeis.mp3...\n",
      "finished!\n"
     ]
    }
   ],
   "source": [
    "# test for mass_renamer\n",
    "\n",
    "# for file in os.listdir(folder_to_use):\n",
    "#     if file.endswith(\".mp3\"):\n",
    "#         new_name = file[27:]\n",
    "#         print(\"renaming {} to {}...\".format(file, new_name))\n",
    "#         mass_renamer(folder_to_use, file, new_name)\n",
    "        \n",
    "        \n",
    "# original_file = \"amazon.txt\"\n",
    "# new_name = \"amazon_ip_code.txt\"\n",
    "# mass_renamer(root_test, original_file, new_name)"
   ]
  },
  {
   "cell_type": "code",
   "execution_count": null,
   "metadata": {
    "collapsed": false
   },
   "outputs": [],
   "source": [
    "# #get the folder name, which is the same as the album name\n",
    "# os.chdir(folder_to_use)\n",
    "# current_working_directory = os.getcwd()\n",
    "# current_working_directory_list = current_working_directory.split(\"\\\\\")\n",
    "# folder_name = current_working_directory_list[-1]\n",
    "# album_name = folder_name \n",
    "\n",
    "# #all of the above as a one-liner:\n",
    "# album_name2 = str(os.getcwd()).split(\"\\\\\")[-1]\n",
    "\n",
    "# print(album_name)\n",
    "# #print(album_name2)"
   ]
  },
  {
   "cell_type": "code",
   "execution_count": null,
   "metadata": {
    "collapsed": false
   },
   "outputs": [],
   "source": [
    "# get input from external file, here titles and artists from titles.txt, where titles and artists are delimited with ,\n",
    "# title_file = \"titles.txt\"\n",
    "\n",
    "# with open(os.path.join(folder_to_use, title_file), \"r\") as titles:\n",
    "#     contents = titles.read()\n",
    "#     properties_list = contents.split(\"\\n\")\n",
    "#     all_properties = list()\n",
    "#     track_number = 1\n",
    "#     for record in properties_list:\n",
    "#         properties_per_song = record.split(\",\")\n",
    "#         all_properties.append(properties_per_song)\n",
    "#     print(all_properties)\n",
    "#         #print(i, \": \", titles_list[i])"
   ]
  },
  {
   "cell_type": "code",
   "execution_count": null,
   "metadata": {
    "collapsed": false
   },
   "outputs": [],
   "source": [
    "# main action\n",
    "# mp3_files = list()\n",
    "# for root, subdirs, files in os.walk(folder_to_use):\n",
    "#     print(\"--\\nroot = \"+root)\n",
    "#     print(subdirs)\n",
    "#     print(files)\n",
    "#     title_counter = 0\n",
    "#     for file in files:\n",
    "#         if file.endswith(\".mp3\"):\n",
    "#             title = all_properties[title_counter][0]\n",
    "#             artist = all_properties[title_counter][1]\n",
    "#             change_mp3_file(root, file, \"title\", title)\n",
    "#             change_mp3_file(root, file, \"artist\", artist)\n",
    "#         title_counter += 1\n",
    "# print(\"Finished!\")"
   ]
  },
  {
   "cell_type": "code",
   "execution_count": 14,
   "metadata": {
    "collapsed": false
   },
   "outputs": [
    {
     "name": "stdout",
     "output_type": "stream",
     "text": [
      "TO PAIΧNIDI PAIZETAI AKOMA\n",
      "MAMA(LA MAMMA)\n",
      "PETALOYDA\n",
      "SAN NAYAGOS\n",
      "TO PARTI ARΧIZEI(ARRIVANO GLI UOMINI)\n",
      "PARAMONI PRWTOΧRONIAS\n",
      "KAROYSEL\n",
      "MI ME ALLAXEIS\n",
      "ΧRONIA FORTWNW\n",
      "GELA MOY\n"
     ]
    }
   ],
   "source": [
    "# get the titles of all mp3 files in folder\n",
    "# for file in os.listdir(folder_to_use):\n",
    "#     if file.endswith(\".mp3\"):\n",
    "#         title = get_mp3_information(folder_to_use, file, \"title\")\n",
    "#         print(title[0])"
   ]
  },
  {
   "cell_type": "code",
   "execution_count": 12,
   "metadata": {
    "collapsed": false,
    "scrolled": true
   },
   "outputs": [
    {
     "name": "stdout",
     "output_type": "stream",
     "text": [
      "ΤΟ ΠΑΙΧΝΙΔΙ ΠΑΙΖΕΤΑΙ ΑΚΟΜΑ\n",
      "changing title for '01 ΤΟ ΠΑΙΧΝΙΔΙ ΠΑΙΖΕΤΑΙ ΑΚΟΜΑ.mp3' to 'TO PAIΧNIDI PAIZETAI AKOMA'\n",
      "changing artist for '01 ΤΟ ΠΑΙΧΝΙΔΙ ΠΑΙΖΕΤΑΙ ΑΚΟΜΑ.mp3' to 'Vasilhs Papakonstantinou'\n",
      "changing album for '01 ΤΟ ΠΑΙΧΝΙΔΙ ΠΑΙΖΕΤΑΙ ΑΚΟΜΑ.mp3' to 'To Paixnidi Paizetai'\n",
      "ΜΑΜΑ(LA MAMMA)\n",
      "changing title for '02 ΜΑΜΑ(LA MAMMA).mp3' to 'MAMA(LA MAMMA)'\n",
      "changing artist for '02 ΜΑΜΑ(LA MAMMA).mp3' to 'Vasilhs Papakonstantinou'\n",
      "changing album for '02 ΜΑΜΑ(LA MAMMA).mp3' to 'To Paixnidi Paizetai'\n",
      "ΠΕΤΑΛΟΥΔΑ\n",
      "changing title for '03 ΠΕΤΑΛΟΥΔΑ.mp3' to 'PETALOYDA'\n",
      "changing artist for '03 ΠΕΤΑΛΟΥΔΑ.mp3' to 'Vasilhs Papakonstantinou'\n",
      "changing album for '03 ΠΕΤΑΛΟΥΔΑ.mp3' to 'To Paixnidi Paizetai'\n",
      "ΣΑΝ ΝΑΥΑΓΟΣ\n",
      "changing title for '04 ΣΑΝ ΝΑΥΑΓΟΣ.mp3' to 'SAN NAYAGOS'\n",
      "changing artist for '04 ΣΑΝ ΝΑΥΑΓΟΣ.mp3' to 'Vasilhs Papakonstantinou'\n",
      "changing album for '04 ΣΑΝ ΝΑΥΑΓΟΣ.mp3' to 'To Paixnidi Paizetai'\n",
      "ΤΟ ΠΑΡΤΙ ΑΡΧΙΖΕΙ(ARRIVANO GLI UOMINI)\n",
      "changing title for '05 ΤΟ ΠΑΡΤΙ ΑΡΧΙΖΕΙ(ARRIVANO GLI UOMINI).mp3' to 'TO PARTI ARΧIZEI(ARRIVANO GLI UOMINI)'\n",
      "changing artist for '05 ΤΟ ΠΑΡΤΙ ΑΡΧΙΖΕΙ(ARRIVANO GLI UOMINI).mp3' to 'Vasilhs Papakonstantinou'\n",
      "changing album for '05 ΤΟ ΠΑΡΤΙ ΑΡΧΙΖΕΙ(ARRIVANO GLI UOMINI).mp3' to 'To Paixnidi Paizetai'\n",
      "ΠΑΡΑΜΟΝΗ ΠΡΩΤΟΧΡΟΝΙΑΣ\n",
      "changing title for '06 ΠΑΡΑΜΟΝΗ ΠΡΩΤΟΧΡΟΝΙΑΣ.mp3' to 'PARAMONI PRWTOΧRONIAS'\n",
      "changing artist for '06 ΠΑΡΑΜΟΝΗ ΠΡΩΤΟΧΡΟΝΙΑΣ.mp3' to 'Vasilhs Papakonstantinou'\n",
      "changing album for '06 ΠΑΡΑΜΟΝΗ ΠΡΩΤΟΧΡΟΝΙΑΣ.mp3' to 'To Paixnidi Paizetai'\n",
      "ΚΑΡΟΥΣΕΛ\n",
      "changing title for '07 ΚΑΡΟΥΣΕΛ.mp3' to 'KAROYSEL'\n",
      "changing artist for '07 ΚΑΡΟΥΣΕΛ.mp3' to 'Vasilhs Papakonstantinou'\n",
      "changing album for '07 ΚΑΡΟΥΣΕΛ.mp3' to 'To Paixnidi Paizetai'\n",
      "ΜΗ ΜΕ ΑΛΛΑΞΕΙΣ\n",
      "changing title for '08 ΜΗ ΜΕ ΑΛΛΑΞΕΙΣ.mp3' to 'MI ME ALLAXEIS'\n",
      "changing artist for '08 ΜΗ ΜΕ ΑΛΛΑΞΕΙΣ.mp3' to 'Vasilhs Papakonstantinou'\n",
      "changing album for '08 ΜΗ ΜΕ ΑΛΛΑΞΕΙΣ.mp3' to 'To Paixnidi Paizetai'\n",
      "ΧΡΟΝΙΑ ΦΟΡΤΩΝΩ\n",
      "changing title for '09 ΧΡΟΝΙΑ ΦΟΡΤΩΝΩ.mp3' to 'ΧRONIA FORTWNW'\n",
      "changing artist for '09 ΧΡΟΝΙΑ ΦΟΡΤΩΝΩ.mp3' to 'Vasilhs Papakonstantinou'\n",
      "changing album for '09 ΧΡΟΝΙΑ ΦΟΡΤΩΝΩ.mp3' to 'To Paixnidi Paizetai'\n",
      "ΓΕΛΑ ΜΟΥ\n",
      "changing title for '10 ΓΕΛΑ ΜΟΥ.mp3' to 'GELA MOY'\n",
      "changing artist for '10 ΓΕΛΑ ΜΟΥ.mp3' to 'Vasilhs Papakonstantinou'\n",
      "changing album for '10 ΓΕΛΑ ΜΟΥ.mp3' to 'To Paixnidi Paizetai'\n",
      "finished!\n"
     ]
    }
   ],
   "source": [
    "# renaming files based on the title name\n",
    "\n",
    "# mp3_files = list()\n",
    "# counter = 1\n",
    "# for file in os.listdir(folder_to_use):\n",
    "#     if file.endswith(\".mp3\"):\n",
    "#         title = get_mp3_information(folder_to_use, file, \"title\")\n",
    "#         mass_renamer(folder_to_use, file, \"%02d - %s.mp3\" % (counter, title[0]))\n",
    "#         counter += 1\n",
    "\n",
    "# the opposite : setting the titles in accordance with the file name\n",
    "\n",
    "for file in os.listdir(folder_to_use):\n",
    "    if file.endswith(\".mp3\"):\n",
    "        title = file[3:-4]  \n",
    "        print(title)\n",
    "        # convert to Greeklish (for encoding issues)\n",
    "#         title = Grecka.toGreeklish(title)\n",
    "#         print(title)\n",
    "        change_mp3_file(folder_to_use, file, \"title\", title)\n",
    "        change_mp3_file(folder_to_use, file, \"artist\", ARTIST_NAME)\n",
    "        change_mp3_file(folder_to_use, file, \"album\", ALBUM_NAME)\n",
    "print(\"finished!\")"
   ]
  }
 ],
 "metadata": {
  "anaconda-cloud": {},
  "kernelspec": {
   "display_name": "Python [default]",
   "language": "python",
   "name": "python3"
  },
  "language_info": {
   "codemirror_mode": {
    "name": "ipython",
    "version": 3
   },
   "file_extension": ".py",
   "mimetype": "text/x-python",
   "name": "python",
   "nbconvert_exporter": "python",
   "pygments_lexer": "ipython3",
   "version": "3.5.2"
  }
 },
 "nbformat": 4,
 "nbformat_minor": 1
}
