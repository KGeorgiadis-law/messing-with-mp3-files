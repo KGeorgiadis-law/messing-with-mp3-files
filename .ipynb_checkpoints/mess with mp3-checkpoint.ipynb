{
 "cells": [
  {
   "cell_type": "code",
   "execution_count": 1,
   "metadata": {
    "collapsed": false
   },
   "outputs": [],
   "source": [
    "#!pip install mutagen"
   ]
  },
  {
   "cell_type": "code",
   "execution_count": 2,
   "metadata": {
    "collapsed": false
   },
   "outputs": [],
   "source": [
    "# dependencies\n",
    "import os"
   ]
  },
  {
   "cell_type": "code",
   "execution_count": 3,
   "metadata": {
    "collapsed": false
   },
   "outputs": [
    {
     "name": "stdout",
     "output_type": "stream",
     "text": [
      "acoustid_fingerprint, acoustid_id, album, albumartist, albumartistsort, albumsort, arranger, artist, artistsort, asin, author, barcode, bpm, catalognumber, compilation, composer, composersort, conductor, copyright, date, discnumber, discsubtitle, encodedby, genre, isrc, language, length, lyricist, media, mood, musicbrainz_albumartistid, musicbrainz_albumid, musicbrainz_albumstatus, musicbrainz_albumtype, musicbrainz_artistid, musicbrainz_discid, musicbrainz_releasegroupid, musicbrainz_releasetrackid, musicbrainz_trackid, musicbrainz_trmid, musicbrainz_workid, musicip_fingerprint, musicip_puid, organization, originaldate, performer, performer:*, releasecountry, replaygain_*_gain, replaygain_*_peak, title, titlesort, tracknumber, version, website\n"
     ]
    }
   ],
   "source": [
    "# for help on mutagen, see https://mutagen.readthedocs.io/en/latest/user/id3.html\n",
    "from mutagen.easyid3 import EasyID3\n",
    "valid_keys = list(EasyID3.valid_keys.keys())\n",
    "valid_keys.sort()\n",
    "valid_keys_str = \", \".join(valid_keys)\n",
    "print(valid_keys_str)"
   ]
  },
  {
   "cell_type": "code",
   "execution_count": 4,
   "metadata": {
    "collapsed": false
   },
   "outputs": [],
   "source": [
    "# functions to use\n",
    "def change_mp3_file(mp3_file_folder, mp3_file_name, key_to_change, new_value):\n",
    "    # join the folder name and the file name to find the absolute path\n",
    "    mp3_file_path = os.path.join(mp3_file_folder, mp3_file_name)\n",
    "    # initialise mutagen\n",
    "    current_track = EasyID3(mp3_file_path)\n",
    "    if key_to_change in valid_keys:\n",
    "        current_track[key_to_change] = new_value\n",
    "        print(\"changing {} for '{}' to '{}'\".format(key_to_change, mp3_file_name, new_value))\n",
    "        current_track.save()\n",
    "    else:\n",
    "        raise NameError(\"You doofus! '{}' is not one of the available keys! You can see the available keys by using print(available_keys)\".format(key_to_change))"
   ]
  },
  {
   "cell_type": "code",
   "execution_count": 5,
   "metadata": {
    "collapsed": false
   },
   "outputs": [
    {
     "name": "stdout",
     "output_type": "stream",
     "text": [
      "please select root folder: C:\\Users\\Constantinos\\Music\\Music (Greek) (Ελληνικά)\\Oi kalikantzaroi k i Agelasti politeia\n"
     ]
    }
   ],
   "source": [
    "folder_to_use = input(\"please select root folder: \")"
   ]
  },
  {
   "cell_type": "code",
   "execution_count": null,
   "metadata": {
    "collapsed": false
   },
   "outputs": [],
   "source": [
    "#get the folder name, which is the same as the album name\n",
    "os.chdir(folder_to_use)\n",
    "current_working_directory = os.getcwd()\n",
    "current_working_directory_list = current_working_directory.split(\"\\\\\")\n",
    "folder_name = current_working_directory_list[-1]\n",
    "album_name = folder_name \n",
    "\n",
    "#all of the above as a one-liner:\n",
    "album_name2 = str(os.getcwd()).split(\"\\\\\")[-1]\n",
    "\n",
    "print(album_name)\n",
    "#print(album_name2)"
   ]
  },
  {
   "cell_type": "code",
   "execution_count": 6,
   "metadata": {
    "collapsed": false
   },
   "outputs": [
    {
     "name": "stdout",
     "output_type": "stream",
     "text": [
      "acoustid_fingerprint, acoustid_id, album, albumartist, albumartistsort, albumsort, arranger, artist, artistsort, asin, author, barcode, bpm, catalognumber, compilation, composer, composersort, conductor, copyright, date, discnumber, discsubtitle, encodedby, genre, isrc, language, length, lyricist, media, mood, musicbrainz_albumartistid, musicbrainz_albumid, musicbrainz_albumstatus, musicbrainz_albumtype, musicbrainz_artistid, musicbrainz_discid, musicbrainz_releasegroupid, musicbrainz_releasetrackid, musicbrainz_trackid, musicbrainz_trmid, musicbrainz_workid, musicip_fingerprint, musicip_puid, organization, originaldate, performer, performer:*, releasecountry, replaygain_*_gain, replaygain_*_peak, title, titlesort, tracknumber, version, website\n"
     ]
    }
   ],
   "source": [
    "print(valid_keys_str)"
   ]
  },
  {
   "cell_type": "code",
   "execution_count": 8,
   "metadata": {
    "collapsed": false
   },
   "outputs": [
    {
     "name": "stdout",
     "output_type": "stream",
     "text": [
      "0 :  Kokkini Klosti Demeni\n",
      "1 :  Mia Fora Kai Enan Kairo\n",
      "2 :  Ta Paidia Tis Trelas\n",
      "3 :  Kove Prionaki Mou\n",
      "4 :  Ekrithmes Katastaseis\n",
      "5 :  Ton Theofanion\n",
      "6 :  Mia Orimi Sizitisi\n",
      "7 :  Asinartito Sinafi\n",
      "8 :  Rave Party\n",
      "9 :  To Vals Tis Monikas\n",
      "10 :  Poli Ekrithmes Katastaseis\n",
      "11 :  Tentouki\n",
      "12 :  Votani Votanaki\n",
      "13 :  To Pnevma Tis Paparounas\n",
      "14 :  Omorfi Mera\n",
      "15 :  Khamos Sto Isioma\n"
     ]
    }
   ],
   "source": [
    "title_file = \"agelasti politeia.txt\"\n",
    "\n",
    "with open(os.path.join(folder_to_use, title_file), \"r\") as titles:\n",
    "    contents = titles.read()\n",
    "    titles_list = contents.split(\"\\n\")\n",
    "    for i in range(len(titles_list)):\n",
    "        print(i, \": \", titles_list[i])"
   ]
  },
  {
   "cell_type": "code",
   "execution_count": 10,
   "metadata": {
    "collapsed": false
   },
   "outputs": [
    {
     "name": "stdout",
     "output_type": "stream",
     "text": [
      "--\n",
      "root = C:\\Users\\Constantinos\\Music\\Music (Greek) (Ελληνικά)\\Oi kalikantzaroi k i Agelasti politeia\n",
      "['wma']\n",
      "['01 Track 1.mp3', '02 Track 2.mp3', '03 Track 3.mp3', '04 Track 4.mp3', '05 Track 5.mp3', '06 Track 6.mp3', '07 Track 7.mp3', '08 Track 8.mp3', '09 Track 9.mp3', '10 Track 10.mp3', '11 Track 11.mp3', '12 Track 12.mp3', '13 Track 13.mp3', '14 Track 14.mp3', '15 Track 15.mp3', '16 Track 16.mp3', 'agelasti politeia.txt', 'desktop.ini']\n",
      "changing artist for '01 Track 1.mp3' to 'Katsimixaioi, Xaris k Panos'\n",
      "changing album for '01 Track 1.mp3' to 'Oi Kalikantzaroi kai i Agelasti Politeia'\n",
      "changing title for '01 Track 1.mp3' to 'Mia Fora Kai Enan Kairo'\n",
      "changing artist for '02 Track 2.mp3' to 'Katsimixaioi, Xaris k Panos'\n",
      "changing album for '02 Track 2.mp3' to 'Oi Kalikantzaroi kai i Agelasti Politeia'\n",
      "changing title for '02 Track 2.mp3' to 'Ta Paidia Tis Trelas'\n",
      "changing artist for '03 Track 3.mp3' to 'Katsimixaioi, Xaris k Panos'\n",
      "changing album for '03 Track 3.mp3' to 'Oi Kalikantzaroi kai i Agelasti Politeia'\n",
      "changing title for '03 Track 3.mp3' to 'Kove Prionaki Mou'\n",
      "changing artist for '04 Track 4.mp3' to 'Katsimixaioi, Xaris k Panos'\n",
      "changing album for '04 Track 4.mp3' to 'Oi Kalikantzaroi kai i Agelasti Politeia'\n",
      "changing title for '04 Track 4.mp3' to 'Ekrithmes Katastaseis'\n",
      "changing artist for '05 Track 5.mp3' to 'Katsimixaioi, Xaris k Panos'\n",
      "changing album for '05 Track 5.mp3' to 'Oi Kalikantzaroi kai i Agelasti Politeia'\n",
      "changing title for '05 Track 5.mp3' to 'Ton Theofanion'\n",
      "changing artist for '06 Track 6.mp3' to 'Katsimixaioi, Xaris k Panos'\n",
      "changing album for '06 Track 6.mp3' to 'Oi Kalikantzaroi kai i Agelasti Politeia'\n",
      "changing title for '06 Track 6.mp3' to 'Mia Orimi Sizitisi'\n",
      "changing artist for '07 Track 7.mp3' to 'Katsimixaioi, Xaris k Panos'\n",
      "changing album for '07 Track 7.mp3' to 'Oi Kalikantzaroi kai i Agelasti Politeia'\n",
      "changing title for '07 Track 7.mp3' to 'Asinartito Sinafi'\n",
      "changing artist for '08 Track 8.mp3' to 'Katsimixaioi, Xaris k Panos'\n",
      "changing album for '08 Track 8.mp3' to 'Oi Kalikantzaroi kai i Agelasti Politeia'\n",
      "changing title for '08 Track 8.mp3' to 'Rave Party'\n",
      "changing artist for '09 Track 9.mp3' to 'Katsimixaioi, Xaris k Panos'\n",
      "changing album for '09 Track 9.mp3' to 'Oi Kalikantzaroi kai i Agelasti Politeia'\n",
      "changing title for '09 Track 9.mp3' to 'To Vals Tis Monikas'\n",
      "changing artist for '10 Track 10.mp3' to 'Katsimixaioi, Xaris k Panos'\n",
      "changing album for '10 Track 10.mp3' to 'Oi Kalikantzaroi kai i Agelasti Politeia'\n",
      "changing title for '10 Track 10.mp3' to 'Poli Ekrithmes Katastaseis'\n",
      "changing artist for '11 Track 11.mp3' to 'Katsimixaioi, Xaris k Panos'\n",
      "changing album for '11 Track 11.mp3' to 'Oi Kalikantzaroi kai i Agelasti Politeia'\n",
      "changing title for '11 Track 11.mp3' to 'Tentouki'\n",
      "changing artist for '12 Track 12.mp3' to 'Katsimixaioi, Xaris k Panos'\n",
      "changing album for '12 Track 12.mp3' to 'Oi Kalikantzaroi kai i Agelasti Politeia'\n",
      "changing title for '12 Track 12.mp3' to 'Votani Votanaki'\n",
      "changing artist for '13 Track 13.mp3' to 'Katsimixaioi, Xaris k Panos'\n",
      "changing album for '13 Track 13.mp3' to 'Oi Kalikantzaroi kai i Agelasti Politeia'\n",
      "changing title for '13 Track 13.mp3' to 'To Pnevma Tis Paparounas'\n",
      "changing artist for '14 Track 14.mp3' to 'Katsimixaioi, Xaris k Panos'\n",
      "changing album for '14 Track 14.mp3' to 'Oi Kalikantzaroi kai i Agelasti Politeia'\n",
      "changing title for '14 Track 14.mp3' to 'Omorfi Mera'\n",
      "changing artist for '15 Track 15.mp3' to 'Katsimixaioi, Xaris k Panos'\n",
      "changing album for '15 Track 15.mp3' to 'Oi Kalikantzaroi kai i Agelasti Politeia'\n",
      "changing title for '15 Track 15.mp3' to 'Khamos Sto Isioma'\n",
      "changing artist for '16 Track 16.mp3' to 'Katsimixaioi, Xaris k Panos'\n",
      "changing album for '16 Track 16.mp3' to 'Oi Kalikantzaroi kai i Agelasti Politeia'\n"
     ]
    },
    {
     "ename": "IndexError",
     "evalue": "list index out of range",
     "output_type": "error",
     "traceback": [
      "\u001b[0;31m---------------------------------------------------------------------------\u001b[0m",
      "\u001b[0;31mIndexError\u001b[0m                                Traceback (most recent call last)",
      "\u001b[0;32m<ipython-input-10-cc165e8e9907>\u001b[0m in \u001b[0;36m<module>\u001b[0;34m()\u001b[0m\n\u001b[1;32m      9\u001b[0m             \u001b[0mchange_mp3_file\u001b[0m\u001b[1;33m(\u001b[0m\u001b[0mroot\u001b[0m\u001b[1;33m,\u001b[0m \u001b[0mfile\u001b[0m\u001b[1;33m,\u001b[0m \u001b[1;34m\"artist\"\u001b[0m\u001b[1;33m,\u001b[0m \u001b[1;34m\"Katsimixaioi, Xaris k Panos\"\u001b[0m\u001b[1;33m)\u001b[0m\u001b[1;33m\u001b[0m\u001b[0m\n\u001b[1;32m     10\u001b[0m             \u001b[0mchange_mp3_file\u001b[0m\u001b[1;33m(\u001b[0m\u001b[0mroot\u001b[0m\u001b[1;33m,\u001b[0m \u001b[0mfile\u001b[0m\u001b[1;33m,\u001b[0m \u001b[1;34m\"album\"\u001b[0m\u001b[1;33m,\u001b[0m \u001b[1;34m\"Oi Kalikantzaroi kai i Agelasti Politeia\"\u001b[0m\u001b[1;33m)\u001b[0m\u001b[1;33m\u001b[0m\u001b[0m\n\u001b[0;32m---> 11\u001b[0;31m             \u001b[0mchange_mp3_file\u001b[0m\u001b[1;33m(\u001b[0m\u001b[0mroot\u001b[0m\u001b[1;33m,\u001b[0m \u001b[0mfile\u001b[0m\u001b[1;33m,\u001b[0m \u001b[1;34m\"title\"\u001b[0m\u001b[1;33m,\u001b[0m \u001b[0mtitles_list\u001b[0m\u001b[1;33m[\u001b[0m\u001b[0mtitle_counter\u001b[0m\u001b[1;33m]\u001b[0m\u001b[1;33m)\u001b[0m\u001b[1;33m\u001b[0m\u001b[0m\n\u001b[0m\u001b[1;32m     12\u001b[0m         \u001b[0mtitle_counter\u001b[0m \u001b[1;33m+=\u001b[0m \u001b[1;36m1\u001b[0m\u001b[1;33m\u001b[0m\u001b[0m\n\u001b[1;32m     13\u001b[0m \u001b[0mprint\u001b[0m\u001b[1;33m(\u001b[0m\u001b[1;34m\"Finished!\"\u001b[0m\u001b[1;33m)\u001b[0m\u001b[1;33m\u001b[0m\u001b[0m\n",
      "\u001b[0;31mIndexError\u001b[0m: list index out of range"
     ]
    }
   ],
   "source": [
    "mp3_files = list()\n",
    "for root, subdirs, files in os.walk(folder_to_use):\n",
    "    print(\"--\\nroot = \"+root)\n",
    "    print(subdirs)\n",
    "    print(files)\n",
    "    title_counter = 1\n",
    "    for file in files:\n",
    "        if file.endswith(\".mp3\"):\n",
    "            change_mp3_file(root, file, \"\", \"\")\n",
    "        title_counter += 1\n",
    "print(\"Finished!\")"
   ]
  }
 ],
 "metadata": {
  "anaconda-cloud": {},
  "kernelspec": {
   "display_name": "Python [default]",
   "language": "python",
   "name": "python3"
  },
  "language_info": {
   "codemirror_mode": {
    "name": "ipython",
    "version": 3
   },
   "file_extension": ".py",
   "mimetype": "text/x-python",
   "name": "python",
   "nbconvert_exporter": "python",
   "pygments_lexer": "ipython3",
   "version": "3.5.2"
  }
 },
 "nbformat": 4,
 "nbformat_minor": 1
}
