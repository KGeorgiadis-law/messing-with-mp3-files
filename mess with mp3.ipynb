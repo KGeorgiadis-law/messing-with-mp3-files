{
 "cells": [
  {
   "cell_type": "code",
   "execution_count": null,
   "metadata": {
    "collapsed": false
   },
   "outputs": [],
   "source": [
    "#!pip install mutagen"
   ]
  },
  {
   "cell_type": "code",
   "execution_count": null,
   "metadata": {
    "collapsed": false
   },
   "outputs": [],
   "source": [
    "# dependencies\n",
    "import os"
   ]
  },
  {
   "cell_type": "code",
   "execution_count": null,
   "metadata": {
    "collapsed": false
   },
   "outputs": [],
   "source": [
    "# with thanks to ThemisB https://github.com/ThemisB/grecka\n",
    "from grecka import *"
   ]
  },
  {
   "cell_type": "code",
   "execution_count": null,
   "metadata": {
    "collapsed": false
   },
   "outputs": [],
   "source": [
    "# for help on mutagen, see https://mutagen.readthedocs.io/en/latest/user/id3.html\n",
    "from mutagen.easyid3 import EasyID3\n",
    "valid_keys = list(EasyID3.valid_keys.keys())\n",
    "valid_keys.sort()\n",
    "valid_keys_str = \", \".join(valid_keys)\n",
    "print(valid_keys_str)"
   ]
  },
  {
   "cell_type": "code",
   "execution_count": null,
   "metadata": {
    "collapsed": false
   },
   "outputs": [],
   "source": [
    "# functions to use\n",
    "def change_mp3_file(mp3_file_folder, mp3_file_name, key_to_change, new_value):\n",
    "    # join the folder name and the file name to find the absolute path\n",
    "    mp3_file_path = os.path.join(mp3_file_folder, mp3_file_name)\n",
    "    # initialise mutagen\n",
    "    current_track = EasyID3(mp3_file_path)\n",
    "    if key_to_change in valid_keys:\n",
    "        current_track[key_to_change] = new_value\n",
    "        print(\"changing {} for '{}' to '{}'\".format(key_to_change, mp3_file_name, new_value))\n",
    "        current_track.save()\n",
    "    else:\n",
    "        raise NameError(\"You doofus! '{}' is not one of the available keys! You can see the available keys by using print(available_keys)\".format(key_to_change))"
   ]
  },
  {
   "cell_type": "code",
   "execution_count": null,
   "metadata": {
    "collapsed": true
   },
   "outputs": [],
   "source": [
    "def get_mp3_information(mp3_file_folder, mp3_file_name, key_to_take):\n",
    "    mp3_file_path = os.path.join(mp3_file_folder, mp3_file_name)\n",
    "    current_track = EasyID3(mp3_file_path)\n",
    "    return current_track[key_to_take]"
   ]
  },
  {
   "cell_type": "code",
   "execution_count": null,
   "metadata": {
    "collapsed": true
   },
   "outputs": [],
   "source": [
    "def mass_renamer(root, original_file, new_name):\n",
    "    original_file_path = os.path.join(root, original_file)\n",
    "    new_file_path = os.path.join(root, new_name)\n",
    "    os.rename(original_file_path, new_file_path)\n",
    "    print(\"finished!\")"
   ]
  },
  {
   "cell_type": "code",
   "execution_count": null,
   "metadata": {
    "collapsed": false
   },
   "outputs": [],
   "source": [
    "folder_to_use = input(\"please select root folder: \")"
   ]
  },
  {
   "cell_type": "code",
   "execution_count": null,
   "metadata": {
    "collapsed": false,
    "scrolled": true
   },
   "outputs": [],
   "source": [
    "# test for mass_renamer\n",
    "\n",
    "# for file in os.listdir(folder_to_use):\n",
    "#     if file.endswith(\".mp3\"):\n",
    "#         new_name = file[27:]\n",
    "#         print(\"renaming {} to {}...\".format(file, new_name))\n",
    "#         mass_renamer(folder_to_use, file, new_name)\n",
    "        \n",
    "        \n",
    "# original_file = \"amazon.txt\"\n",
    "# new_name = \"amazon_ip_code.txt\"\n",
    "# mass_renamer(root_test, original_file, new_name)"
   ]
  },
  {
   "cell_type": "code",
   "execution_count": null,
   "metadata": {
    "collapsed": false
   },
   "outputs": [],
   "source": [
    "# #get the folder name, which is the same as the album name\n",
    "# os.chdir(folder_to_use)\n",
    "# current_working_directory = os.getcwd()\n",
    "# current_working_directory_list = current_working_directory.split(\"\\\\\")\n",
    "# folder_name = current_working_directory_list[-1]\n",
    "# album_name = folder_name \n",
    "\n",
    "# #all of the above as a one-liner:\n",
    "# album_name2 = str(os.getcwd()).split(\"\\\\\")[-1]\n",
    "\n",
    "# print(album_name)\n",
    "# #print(album_name2)"
   ]
  },
  {
   "cell_type": "code",
   "execution_count": null,
   "metadata": {
    "collapsed": false
   },
   "outputs": [],
   "source": [
    "# get input from external file, here titles and artists from titles.txt, where titles and artists are delimited with ,\n",
    "# title_file = \"titles.txt\"\n",
    "\n",
    "# with open(os.path.join(folder_to_use, title_file), \"r\") as titles:\n",
    "#     contents = titles.read()\n",
    "#     properties_list = contents.split(\"\\n\")\n",
    "#     all_properties = list()\n",
    "#     track_number = 1\n",
    "#     for record in properties_list:\n",
    "#         properties_per_song = record.split(\",\")\n",
    "#         all_properties.append(properties_per_song)\n",
    "#     print(all_properties)\n",
    "#         #print(i, \": \", titles_list[i])"
   ]
  },
  {
   "cell_type": "code",
   "execution_count": null,
   "metadata": {
    "collapsed": false
   },
   "outputs": [],
   "source": [
    "# main action\n",
    "# mp3_files = list()\n",
    "# for root, subdirs, files in os.walk(folder_to_use):\n",
    "#     print(\"--\\nroot = \"+root)\n",
    "#     print(subdirs)\n",
    "#     print(files)\n",
    "#     title_counter = 0\n",
    "#     for file in files:\n",
    "#         if file.endswith(\".mp3\"):\n",
    "#             title = all_properties[title_counter][0]\n",
    "#             artist = all_properties[title_counter][1]\n",
    "#             change_mp3_file(root, file, \"title\", title)\n",
    "#             change_mp3_file(root, file, \"artist\", artist)\n",
    "#         title_counter += 1\n",
    "# print(\"Finished!\")"
   ]
  },
  {
   "cell_type": "code",
   "execution_count": null,
   "metadata": {
    "collapsed": false
   },
   "outputs": [],
   "source": [
    "# get the titles of all mp3 files in folder\n",
    "# for file in os.listdir(folder_to_use):\n",
    "#     if file.endswith(\".mp3\"):\n",
    "#         title = get_mp3_information(folder_to_use, file, \"title\")\n",
    "#         print(title[0])"
   ]
  },
  {
   "cell_type": "code",
   "execution_count": null,
   "metadata": {
    "collapsed": false,
    "scrolled": true
   },
   "outputs": [],
   "source": [
    "# renaming files based on the title name\n",
    "\n",
    "# mp3_files = list()\n",
    "# counter = 1\n",
    "# for file in os.listdir(folder_to_use):\n",
    "#     if file.endswith(\".mp3\"):\n",
    "#         title = get_mp3_information(folder_to_use, file, \"title\")\n",
    "#         mass_renamer(folder_to_use, file, \"%02d - %s.mp3\" % (counter, title[0]))\n",
    "#         counter += 1\n",
    "\n",
    "# the opposite : setting the titles in accordance with the file name\n",
    "\n",
    "for file in os.listdir(folder_to_use):\n",
    "    if file.endswith(\".mp3\"):\n",
    "        title = file[3:-4]  \n",
    "        print(title)\n",
    "        # convert to Greeklish (for encoding issues)\n",
    "#         title = Grecka.toGreeklish(title)\n",
    "#         print(title)\n",
    "        change_mp3_file(folder_to_use, file, \"title\", title)\n",
    "        change_mp3_file(folder_to_use, file, \"artist\", ARTIST_NAME)\n",
    "        change_mp3_file(folder_to_use, file, \"album\", ALBUM_NAME)\n",
    "print(\"finished!\")"
   ]
  },
  {
   "cell_type": "code",
   "execution_count": 1,
   "metadata": {
    "collapsed": true
   },
   "outputs": [],
   "source": [
    "import csv\n",
    "\n",
    "## what do I want to record?\n",
    "## File name, location, title, artist, album\n",
    "## alternative idea: record EVERYTHING\n",
    "\n",
    "with open('titles.csv', 'w') as csvfile:\n",
    "    fieldnames = ['title', 'artist', 'album', 'filename', 'location']\n",
    "    writer = csv.DictWriter(csvfile, fieldnames=fieldnames)\n",
    "    writer.writeheader()\n",
    "    for root, subdirs, files in os.walk(folder_to_use):\n",
    "    print(\"--\\nroot = \"+root)\n",
    "    print(subdirs)\n",
    "    print(files)\n",
    "    title_counter = 0\n",
    "    for file in files:\n",
    "        if file.endswith(\".mp3\"):\n",
    "            title = get_mp3_information(root, file, 'title')\n",
    "            artist = get_mp3_information(root, file, 'artist')\n",
    "            album = get_mp3_information(root, file, 'album')\n",
    "            writer.writerow(\n",
    "                {'title':title,\n",
    "                 'artist':artist,\n",
    "                 'album':album,\n",
    "                 'filename': file\n",
    "                 'location': root\n",
    "                })"
   ]
  }
 ],
 "metadata": {
  "anaconda-cloud": {},
  "kernelspec": {
   "display_name": "Python [default]",
   "language": "python",
   "name": "python3"
  },
  "language_info": {
   "codemirror_mode": {
    "name": "ipython",
    "version": 3
   },
   "file_extension": ".py",
   "mimetype": "text/x-python",
   "name": "python",
   "nbconvert_exporter": "python",
   "pygments_lexer": "ipython3",
   "version": "3.5.2"
  }
 },
 "nbformat": 4,
 "nbformat_minor": 1
}
