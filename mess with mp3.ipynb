{
 "cells": [
  {
   "cell_type": "code",
   "execution_count": 1,
   "metadata": {
    "collapsed": false
   },
   "outputs": [
    {
     "name": "stdout",
     "output_type": "stream",
     "text": [
      "Requirement already satisfied: mutagen in c:\\users\\constantinos\\anaconda3\\lib\\site-packages\n"
     ]
    }
   ],
   "source": [
    "#!pip install mutagen"
   ]
  },
  {
   "cell_type": "code",
   "execution_count": 2,
   "metadata": {
    "collapsed": false
   },
   "outputs": [],
   "source": [
    "# dependencies\n",
    "import os"
   ]
  },
  {
   "cell_type": "code",
   "execution_count": 3,
   "metadata": {
    "collapsed": false
   },
   "outputs": [
    {
     "name": "stdout",
     "output_type": "stream",
     "text": [
      "dict_keys(['releasecountry', 'asin', 'musicbrainz_releasetrackid', 'musicbrainz_discid', 'musicbrainz_artistid', 'composer', 'originaldate', 'length', 'encodedby', 'website', 'replaygain_*_gain', 'tracknumber', 'albumartistsort', 'albumartist', 'replaygain_*_peak', 'organization', 'arranger', 'musicbrainz_trmid', 'musicip_puid', 'media', 'discsubtitle', 'titlesort', 'artistsort', 'albumsort', 'copyright', 'catalognumber', 'performer:*', 'mood', 'barcode', 'compilation', 'isrc', 'date', 'musicbrainz_albumartistid', 'musicbrainz_workid', 'album', 'musicbrainz_trackid', 'musicip_fingerprint', 'language', 'bpm', 'musicbrainz_releasegroupid', 'discnumber', 'acoustid_id', 'version', 'musicbrainz_albumstatus', 'genre', 'performer', 'composersort', 'musicbrainz_albumtype', 'musicbrainz_albumid', 'conductor', 'title', 'acoustid_fingerprint', 'lyricist', 'author', 'artist'])\n"
     ]
    }
   ],
   "source": [
    "# for help on mutagen, see https://mutagen.readthedocs.io/en/latest/user/id3.html\n",
    "from mutagen.easyid3 import EasyID3\n",
    "print(EasyID3.valid_keys.keys())"
   ]
  },
  {
   "cell_type": "code",
   "execution_count": null,
   "metadata": {
    "collapsed": false
   },
   "outputs": [],
   "source": [
    "folder_to_use = input(\"please select folder:\")"
   ]
  },
  {
   "cell_type": "code",
   "execution_count": null,
   "metadata": {
    "collapsed": false
   },
   "outputs": [],
   "source": [
    "#get the folder name, which is the same as the album name\n",
    "os.chdir(folder_to_use)\n",
    "current_working_directory = os.getcwd()\n",
    "current_working_directory_list = current_working_directory.split(\"\\\\\")\n",
    "folder_name = current_working_directory_list[-1]\n",
    "album_name = folder_name \n",
    "\n",
    "#all of the above as a one-liner:\n",
    "album_name2 = str(os.getcwd()).split(\"\\\\\")[-1]\n",
    "\n",
    "print(album_name)\n",
    "#print(album_name2)"
   ]
  },
  {
   "cell_type": "code",
   "execution_count": null,
   "metadata": {
    "collapsed": false
   },
   "outputs": [],
   "source": [
    "# list to save all mp3 files in folder\n",
    "tracks = list()\n",
    "\n",
    "# get all mp3 tracks in file and add them to the 'tracks' list\n",
    "for file in os.listdir():\n",
    "    if file.endswith(\".mp3\"):\n",
    "        tracks.append(file)\n",
    "\n",
    "#print(tracks)"
   ]
  },
  {
   "cell_type": "code",
   "execution_count": null,
   "metadata": {
    "collapsed": false
   },
   "outputs": [],
   "source": [
    "# change the album to the folder name\n",
    "for track in tracks:\n",
    "    current_track = EasyID3(track)\n",
    "    current_track[\"album\"] = album_name\n",
    "    print(\"changing album for \", track)\n",
    "    current_track.save()\n",
    "\n",
    "print(\"Finished!\")"
   ]
  },
  {
   "cell_type": "code",
   "execution_count": null,
   "metadata": {
    "collapsed": true
   },
   "outputs": [],
   "source": []
  }
 ],
 "metadata": {
  "anaconda-cloud": {},
  "kernelspec": {
   "display_name": "Python [default]",
   "language": "python",
   "name": "python3"
  },
  "language_info": {
   "codemirror_mode": {
    "name": "ipython",
    "version": 3
   },
   "file_extension": ".py",
   "mimetype": "text/x-python",
   "name": "python",
   "nbconvert_exporter": "python",
   "pygments_lexer": "ipython3",
   "version": "3.5.2"
  }
 },
 "nbformat": 4,
 "nbformat_minor": 1
}
