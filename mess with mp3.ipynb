{
 "cells": [
  {
   "cell_type": "code",
   "execution_count": 1,
   "metadata": {
    "collapsed": false
   },
   "outputs": [
    {
     "name": "stdout",
     "output_type": "stream",
     "text": [
      "Requirement already satisfied: mutagen in c:\\users\\constantinos\\anaconda3\\lib\\site-packages\n"
     ]
    }
   ],
   "source": [
    "#!pip install mutagen"
   ]
  },
  {
   "cell_type": "code",
   "execution_count": 3,
   "metadata": {
    "collapsed": false
   },
   "outputs": [],
   "source": [
    "# dependencies\n",
    "import os"
   ]
  },
  {
   "cell_type": "code",
   "execution_count": 27,
   "metadata": {
    "collapsed": false
   },
   "outputs": [
    {
     "name": "stdout",
     "output_type": "stream",
     "text": [
      "website, albumartistsort, albumartist, musicbrainz_trackid, genre, encodedby, asin, performer, tracknumber, musicbrainz_releasegroupid, performer:*, originaldate, musicip_fingerprint, albumsort, album, composer, date, conductor, artistsort, barcode, media, releasecountry, musicbrainz_albumstatus, musicbrainz_artistid, compilation, musicbrainz_trmid, author, musicbrainz_albumid, discnumber, composersort, copyright, replaygain_*_gain, length, arranger, title, bpm, musicbrainz_discid, language, musicbrainz_albumartistid, version, mood, musicip_puid, isrc, titlesort, discsubtitle, lyricist, musicbrainz_releasetrackid, replaygain_*_peak, organization, musicbrainz_albumtype, musicbrainz_workid, acoustid_id, acoustid_fingerprint, artist, catalognumber\n"
     ]
    }
   ],
   "source": [
    "# for help on mutagen, see https://mutagen.readthedocs.io/en/latest/user/id3.html\n",
    "from mutagen.easyid3 import EasyID3\n",
    "valid_keys = EasyID3.valid_keys.keys()\n",
    "print(valid_keys)   "
   ]
  },
  {
   "cell_type": "code",
   "execution_count": 36,
   "metadata": {
    "collapsed": false
   },
   "outputs": [],
   "source": [
    "# functions to use\n",
    "def change_mp3_file(mp3_file_folder, mp3_file_name, key_to_change, new_value):\n",
    "    # join the folder name and the file name to find the absolute path\n",
    "    mp3_file_path = os.path.join(mp3_file_folder, mp3_file_name)\n",
    "    # initialise mutagen\n",
    "    current_track = EasyID3(mp3_file_path)\n",
    "    if key_to_change in valid_keys:\n",
    "        current_track[key_to_change] = new_value\n",
    "        print(\"changing {} for '{}' to '{}'\".format(key_to_change, mp3_file_name, new_value))\n",
    "        current_track.save()\n",
    "    else:\n",
    "        raise NameError(\"You doofus! '{}' is not one of the available keys! You can see the available keys by using print(available_keys)\".format(key_to_change))"
   ]
  },
  {
   "cell_type": "code",
   "execution_count": 34,
   "metadata": {
    "collapsed": false
   },
   "outputs": [
    {
     "name": "stdout",
     "output_type": "stream",
     "text": [
      "please select root folder: C:\\Users\\Constantinos\\Music\\Music (Greek) (Ελληνικά)\\Ypogeia Reumata\n"
     ]
    }
   ],
   "source": [
    "folder_to_use = input(\"please select root folder: \")"
   ]
  },
  {
   "cell_type": "code",
   "execution_count": null,
   "metadata": {
    "collapsed": false
   },
   "outputs": [],
   "source": [
    "#get the folder name, which is the same as the album name\n",
    "os.chdir(folder_to_use)\n",
    "current_working_directory = os.getcwd()\n",
    "current_working_directory_list = current_working_directory.split(\"\\\\\")\n",
    "folder_name = current_working_directory_list[-1]\n",
    "album_name = folder_name \n",
    "\n",
    "#all of the above as a one-liner:\n",
    "album_name2 = str(os.getcwd()).split(\"\\\\\")[-1]\n",
    "\n",
    "print(album_name)\n",
    "#print(album_name2)"
   ]
  },
  {
   "cell_type": "code",
   "execution_count": 40,
   "metadata": {
    "collapsed": false
   },
   "outputs": [
    {
     "name": "stdout",
     "output_type": "stream",
     "text": [
      "--\n",
      "root = C:\\Users\\Constantinos\\Music\\Music (Greek) (Ελληνικά)\\Ypogeia Reumata\n",
      "['1994 upogeia reumata - O magos koitazei thn polh', '1995 upogeia reumata - Paraloges', '1996 upogeia reumata - Live sto 8eatro braxwn', '1998 upogeia reumata - Tsalakwmenes meres', '1999 upogeia reumata - Eikones sta suneffa', '1999 upogeia reumata - Small Packet', '2002 upogeia reumata - Mikra pou einai ta oneira', '2002 upogeia reumata - Ti na nai auto', '2007 - Nea Mera']\n",
      "[]\n",
      "--\n",
      "root = C:\\Users\\Constantinos\\Music\\Music (Greek) (Ελληνικά)\\Ypogeia Reumata\\1994 upogeia reumata - O magos koitazei thn polh\n",
      "[]\n",
      "['01 Upogeia reumata - M aresei na mh lew polla.mp3', '02 Upogeia reumata - Eironikon.mp3', '03 Upogeia reumata - Koitas makria.mp3', '04 Upogeia reumata - San fws.mp3', '05 Upogeia reumata - Andreikela .mp3', '06 Upogeia reumata - Kineziko portraito.mp3', '07 Upogeia reumata - Broxh.mp3', '08 Upogeia reumata - Politeuesai.mp3', '09 Upogeia reumata - Nuxta.mp3', '10 Upogeia reumata - Oneira silikonhs.mp3', '11 Upogeia reumata - Meshmeri.mp3', '12 Upogeia reumata - Natasa.mp3', 'o_magos_koitazei_tin_poli_a.jpg', 'o_magos_koitazei_tin_poli_b.jpg', 'Thumbs.db']\n",
      "***Invalid value to change for this folder, script will now exit***\n",
      "--\n",
      "root = C:\\Users\\Constantinos\\Music\\Music (Greek) (Ελληνικά)\\Ypogeia Reumata\\1995 upogeia reumata - Paraloges\n",
      "[]\n",
      "['.picasa.ini', '01 San Erhma Karavia.mp3', '02 Kyriakh.mp3', '03 Ashmenia Sfhka.mp3', '04 O Or8ros Twn Psyxwn.mp3', '05 Xartines Le3eis.mp3', '06 Ymnos 414.mp3', '07 Nanourisma.mp3', '08 Septembrhs.mp3', '09 Sto Ypsos Twn Matiwn Mou.mp3', '10 O Magos Koitazei Thn Polh.mp3', '11 Mple.mp3', 'back.jpg', 'front.jpg', 'Thumbs.db']\n",
      "***Invalid value to change for this folder, script will now exit***\n",
      "--\n",
      "root = C:\\Users\\Constantinos\\Music\\Music (Greek) (Ελληνικά)\\Ypogeia Reumata\\1996 upogeia reumata - Live sto 8eatro braxwn\n",
      "[]\n",
      "['01. MPLE.MP3', '02. BROXI.MP3', '03. XARTINES LE3EIS.MP3', '04. SAN FWS.MP3', '05. KOITAS MAKRIA.MP3', '06. SAN ERIMA KARABIA.MP3', \"07. M' ARESEI NA MI LEW POLLA.MP3\", '08. ASIMENIA SFIKA.MP3', '09. NUXTA.MP3', '10. FETA.MP3', '11. POLITEUESAI.MP3', '12. NANOURISMA.MP3', '13. 414.MP3', '14. MESIMERI.MP3', '15. POLIKOS.MP3', '16. MWRO MOU STASOU NA SOU PW.MP3', 'back.jpg', 'cd.jpg', 'front.jpg', 'Thumbs.db']\n",
      "--\n",
      "root = C:\\Users\\Constantinos\\Music\\Music (Greek) (Ελληνικά)\\Ypogeia Reumata\\1998 upogeia reumata - Tsalakwmenes meres\n",
      "[]\n",
      "['01 Stigmh.mp3', '02 Kainourgia selhnh.mp3', '03 Pws ponaei ena xadi.mp3', '04 Mporei na moiazeis.mp3', '05 Tsalakwmenes meres.mp3', '06 Adeio mustiko.mp3', '07 Mia fulakh.mp3', '08 H koilia ths siwphs.mp3', '09 Fwnes.mp3', '10 Ageras drapeths.mp3', 'Thumbs.db', 'tsalakomenes_back.jpg', 'tsalakomenes_front.jpg', 'tsalakwmenes_cd.jpg']\n",
      "***Invalid value to change for this folder, script will now exit***\n",
      "--\n",
      "root = C:\\Users\\Constantinos\\Music\\Music (Greek) (Ελληνικά)\\Ypogeia Reumata\\1999 upogeia reumata - Eikones sta suneffa\n",
      "[]\n",
      "['01 Mikres xamenes meres.mp3', '02 Anemi.mp3', '03 Den me noiazei.mp3', '04 na gelas.mp3', '05 feygeis makria.mp3', '06 mikra mustika.mp3', '07 Polumnia (Karuwtakis).mp3', '08 Eikones sta synnefa.mp3', '09 Maria.mp3', '10 Alli mia fora.mp3', '11 8a me vreis edw xana.mp3', '12 Paidiko (Karuwtakis).mp3', \"13 8a m' agapaw.mp3\", '14 Anasa pou svinei.mp3', 'synnefa_cd.jpg', 'synnefa_inside.jpg', 'Thumbs.db', 'ypogeia_back.jpg', 'ypogeia_front.jpg']\n",
      "***Invalid value to change for this folder, script will now exit***\n",
      "--\n",
      "root = C:\\Users\\Constantinos\\Music\\Music (Greek) (Ελληνικά)\\Ypogeia Reumata\\1999 upogeia reumata - Small Packet\n",
      "[]\n",
      "['YpogeiaRevmata - SmallPacket - 01 - polumnia.mp3', 'YpogeiaRevmata - SmallPacket - 02 - allh mia fora.mp3', 'YpogeiaRevmata - SmallPacket - 03 - feugeis makria.mp3', 'YpogeiaRevmata - SmallPacket - 04 - maria.mp3']\n",
      "***Invalid value to change for this folder, script will now exit***\n",
      "--\n",
      "root = C:\\Users\\Constantinos\\Music\\Music (Greek) (Ελληνικά)\\Ypogeia Reumata\\2002 upogeia reumata - Mikra pou einai ta oneira\n",
      "[]\n",
      "['01 - Panta tha eimai.mp3', '02 - Eimai mia skepsh.mp3', '03 - Agnwstoi dromoi (xwris gurismo).mp3', '04 - Thelw na xasw ton eauto mou.mp3', '05 - Maures grammes.mp3', '06 - Gia mia perhfanh stigmh.mp3', '07 - Kakh fwtia.mp3', '08 - Ena feggari tou xeimwna.mp3', \"09 - Mikra pou 'nai ta oneira.mp3\", '10 - To parasito.mp3', \"11 - Ti na 'nai auto.mp3\", '12 - Anamesa ston kairo.mp3', '13 - Se perimenw.mp3', 'oneira_back.jpg', 'oneira_cd.jpg', 'oneira_front.jpg', 'Thumbs.db']\n",
      "***Invalid value to change for this folder, script will now exit***\n",
      "--\n",
      "root = C:\\Users\\Constantinos\\Music\\Music (Greek) (Ελληνικά)\\Ypogeia Reumata\\2002 upogeia reumata - Ti na nai auto\n",
      "[]\n",
      "['01 ti na nai auto.mp3', '02 agnwstoi dromoi.mp3', '03 se perimenw.mp3', 'cd.jpg', 'fb.jpg', 'Thumbs.db', 'upogeia_revmata_ti_na_nai_afto_back.jpg', 'upogeia_revmata_ti_na_nai_afto_front.jpg']\n",
      "***Invalid value to change for this folder, script will now exit***\n",
      "--\n",
      "root = C:\\Users\\Constantinos\\Music\\Music (Greek) (Ελληνικά)\\Ypogeia Reumata\\2007 - Nea Mera\n",
      "[]\n",
      "['01-ΤΟ ΤΡΕΝΟ.mp3', '02-ΣΤΑΓΟΝΑ.mp3', '03-ΝΕΑ ΜΕΡΑ.mp3', '04-ΠΑΡΑΣΤΑΣΕΙΣ Ι.mp3', '05-ΟΝΕΙΡΕΥΟΜΑΙ.mp3', '06-ΠΑΡΑΞΕΝΗ ΚΟΠΕΛΑ.mp3', '07-ΠΑΛΙ ΕΓΩ.mp3', '08-ΩΡΑΙΟ ΜΑΘΗΜΑ ΣΤΑ ΧΑΜΕΝΑ ΠΑΙΔΙΑ.mp3', \"09-Τ' ΑΣΤΕΡΙΑ.mp3\", '10-ΜΙΚΡΗ ΑΓΓΕΛΙΑ.mp3', '11-ΔΕΝ ΑΚΟΥΣ.mp3', '12-ΣΙΣΥΦΟΣ.mp3', '13-ΠΑΡΑΣΤΑΣΕΙΣ ΙΙ.mp3', '14-ΑΝΑΚΟΠΗ.mp3', 'FRONT.jpg', 'Thumbs.db', 'TRACKLIST.txt']\n",
      "***Invalid value to change for this folder, script will now exit***\n",
      "Finished!\n"
     ]
    }
   ],
   "source": [
    "mp3_files = list()\n",
    "for root, subdirs, files in os.walk(folder_to_use):\n",
    "    print(\"--\\nroot = \"+root)\n",
    "    print(subdirs)\n",
    "    print(files)\n",
    "    for file in files:\n",
    "        if file.endswith(\".mp3\"):\n",
    "            try:\n",
    "                change_mp3_file(root, file, \"kjasdlkalfd\", \"\")\n",
    "            except NameError:\n",
    "                print(\"***Invalid value to change for this folder, script will now exit***\")\n",
    "                break\n",
    "print(\"Finished!\")"
   ]
  }
 ],
 "metadata": {
  "anaconda-cloud": {},
  "kernelspec": {
   "display_name": "Python [default]",
   "language": "python",
   "name": "python3"
  },
  "language_info": {
   "codemirror_mode": {
    "name": "ipython",
    "version": 3
   },
   "file_extension": ".py",
   "mimetype": "text/x-python",
   "name": "python",
   "nbconvert_exporter": "python",
   "pygments_lexer": "ipython3",
   "version": "3.5.2"
  }
 },
 "nbformat": 4,
 "nbformat_minor": 1
}
